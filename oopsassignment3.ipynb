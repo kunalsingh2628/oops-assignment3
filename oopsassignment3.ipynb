{
 "cells": [
  {
   "cell_type": "code",
   "execution_count": 1,
   "id": "37a691f4-758a-4e26-94ec-27077e0b23b8",
   "metadata": {},
   "outputs": [],
   "source": [
    "##Q-1"
   ]
  },
  {
   "cell_type": "code",
   "execution_count": 2,
   "id": "b8b490cd-68b0-4137-8537-26bdd398c6aa",
   "metadata": {},
   "outputs": [],
   "source": [
    "class Vehicle:\n",
    "    def __init__(self, name_of_vehicle, max_speed, average_of_vehicle):\n",
    "        self.name_of_vehicle = name_of_vehicle\n",
    "        self.max_speed = max_speed\n",
    "        self.average_of_vehicle = average_of_vehicle\n"
   ]
  },
  {
   "cell_type": "code",
   "execution_count": 4,
   "id": "d6e48f7e-ec55-456c-83cc-b68cb0d17991",
   "metadata": {},
   "outputs": [],
   "source": [
    "V=Vehicle(\"ven\" , 120 , 40)"
   ]
  },
  {
   "cell_type": "code",
   "execution_count": 5,
   "id": "1cf71a71-f76c-4638-b16d-230d42520708",
   "metadata": {},
   "outputs": [
    {
     "data": {
      "text/plain": [
       "120"
      ]
     },
     "execution_count": 5,
     "metadata": {},
     "output_type": "execute_result"
    }
   ],
   "source": [
    "V.max_speed"
   ]
  },
  {
   "cell_type": "code",
   "execution_count": 6,
   "id": "5230eec4-5eed-449f-9da3-faf539989591",
   "metadata": {},
   "outputs": [
    {
     "data": {
      "text/plain": [
       "40"
      ]
     },
     "execution_count": 6,
     "metadata": {},
     "output_type": "execute_result"
    }
   ],
   "source": [
    "V.average_of_vehicle"
   ]
  },
  {
   "cell_type": "code",
   "execution_count": 7,
   "id": "66c07779-60af-49a4-9287-ba804dc58927",
   "metadata": {},
   "outputs": [],
   "source": [
    "##Q-2"
   ]
  },
  {
   "cell_type": "code",
   "execution_count": 8,
   "id": "d031adb9-b5c7-45aa-941d-f16b71da54eb",
   "metadata": {},
   "outputs": [],
   "source": [
    "class Vehicle:\n",
    "    def __init__(self, name_of_vehicle, max_speed, average_of_vehicle):\n",
    "        self.name_of_vehicle = name_of_vehicle\n",
    "        self.max_speed = max_speed\n",
    "        self.average_of_vehicle = average_of_vehicle\n",
    "\n",
    "class Car(Vehicle):\n",
    "    def seating_capacity(self, capacity):\n",
    "        return f\"{self.name_of_vehicle} has a seating capacity of {capacity} people.\"\n"
   ]
  },
  {
   "cell_type": "code",
   "execution_count": 9,
   "id": "e612976a-f9e3-482e-bc8f-9dd099c89a20",
   "metadata": {},
   "outputs": [],
   "source": [
    "##Q-3"
   ]
  },
  {
   "cell_type": "code",
   "execution_count": null,
   "id": "669f6545-7f68-4343-892a-e3300dd966ab",
   "metadata": {},
   "outputs": [],
   "source": [
    "Multiple inheritance in Python refers to the capability of a class to inherit attributes and methods from more than one parent class. In the case of multiple inheritance, a class can inherit from multiple classes, acquiring features from all of them.\n",
    "\n",
    "##Here's an example code demonstrating multiple inheritance:"
   ]
  },
  {
   "cell_type": "code",
   "execution_count": 11,
   "id": "54fef21b-9f86-438e-bb80-1eedab4e10ce",
   "metadata": {},
   "outputs": [
    {
     "name": "stdout",
     "output_type": "stream",
     "text": [
      "Engine started\n",
      "Wheels rotating\n",
      "Car is moving\n"
     ]
    }
   ],
   "source": [
    "class Engine:\n",
    "    def start_engine(self):\n",
    "        print(\"Engine started\")\n",
    "\n",
    "class Wheels:\n",
    "    def rotate_wheels(self):\n",
    "        print(\"Wheels rotating\")\n",
    "\n",
    "class Car(Engine, Wheels):\n",
    "    def drive(self):\n",
    "        print(\"Car is moving\")\n",
    "\n",
    "# Creating an object of the Car class\n",
    "my_car = Car()\n",
    "my_car.start_engine()    \n",
    "my_car.rotate_wheels()   \n",
    "my_car.drive() "
   ]
  },
  {
   "cell_type": "code",
   "execution_count": null,
   "id": "7242cb53-117d-4d24-9c35-2349ca30fe38",
   "metadata": {},
   "outputs": [],
   "source": [
    "##Q-4"
   ]
  },
  {
   "cell_type": "code",
   "execution_count": null,
   "id": "d043725b-13bc-4060-9caf-2ca333c80b6c",
   "metadata": {},
   "outputs": [],
   "source": [
    "In Python, getters and setters are methods used to access and modify the attributes of a class, respectively. They are used to control the access and modification of class attributes and provide a way to encapsulate the internal representation of an object.\n",
    "\n",
    "##Here's an example class with a getter and a setter method:"
   ]
  },
  {
   "cell_type": "code",
   "execution_count": 12,
   "id": "c819b72a-438f-4681-a5ae-318d4d02511e",
   "metadata": {},
   "outputs": [
    {
     "name": "stdout",
     "output_type": "stream",
     "text": [
      "My Variable: 42\n"
     ]
    }
   ],
   "source": [
    "class MyClass:\n",
    "    def __init__(self):\n",
    "        # Private variable with a leading underscore\n",
    "        self._my_variable = None\n",
    "\n",
    "    # Getter method\n",
    "    def get_my_variable(self):\n",
    "        return self._my_variable\n",
    "\n",
    "    # Setter method\n",
    "    def set_my_variable(self, value):\n",
    "        if isinstance(value, int):\n",
    "            self._my_variable = value\n",
    "        else:\n",
    "            print(\"Invalid value. Please provide an integer.\")\n",
    "\n",
    "# Creating an object of the MyClass\n",
    "obj = MyClass()\n",
    "\n",
    "# Using the setter method to set the value\n",
    "obj.set_my_variable(42)\n",
    "\n",
    "# Using the getter method to retrieve the value\n",
    "result = obj.get_my_variable()\n",
    "print(\"My Variable:\", result)\n"
   ]
  },
  {
   "cell_type": "code",
   "execution_count": null,
   "id": "e98ab505-e106-4401-a4b0-a51d39e8ae71",
   "metadata": {},
   "outputs": [],
   "source": []
  },
  {
   "cell_type": "code",
   "execution_count": null,
   "id": "0da874cf-c323-44bb-b2ad-0e1a9c6b3ca5",
   "metadata": {},
   "outputs": [],
   "source": []
  },
  {
   "cell_type": "code",
   "execution_count": null,
   "id": "f199a16d-0698-4c97-a459-fc2d421cd796",
   "metadata": {},
   "outputs": [],
   "source": []
  },
  {
   "cell_type": "code",
   "execution_count": null,
   "id": "06ca6406-848b-4cc7-94d0-9356f557d362",
   "metadata": {},
   "outputs": [],
   "source": []
  },
  {
   "cell_type": "code",
   "execution_count": null,
   "id": "962cc2f8-bd49-407d-8255-f67d597ab6a4",
   "metadata": {},
   "outputs": [],
   "source": []
  }
 ],
 "metadata": {
  "kernelspec": {
   "display_name": "Python 3 (ipykernel)",
   "language": "python",
   "name": "python3"
  },
  "language_info": {
   "codemirror_mode": {
    "name": "ipython",
    "version": 3
   },
   "file_extension": ".py",
   "mimetype": "text/x-python",
   "name": "python",
   "nbconvert_exporter": "python",
   "pygments_lexer": "ipython3",
   "version": "3.10.8"
  }
 },
 "nbformat": 4,
 "nbformat_minor": 5
}
